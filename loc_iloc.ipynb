{
 "cells": [
  {
   "cell_type": "code",
   "execution_count": 2,
   "metadata": {},
   "outputs": [],
   "source": [
    "import pandas as pd"
   ]
  },
  {
   "cell_type": "code",
   "execution_count": 3,
   "metadata": {},
   "outputs": [],
   "source": [
    "df = pd.read_excel(\"Dados_Excel.xlsx\")"
   ]
  },
  {
   "cell_type": "code",
   "execution_count": 4,
   "metadata": {},
   "outputs": [
    {
     "data": {
      "text/html": [
       "<div>\n",
       "<style scoped>\n",
       "    .dataframe tbody tr th:only-of-type {\n",
       "        vertical-align: middle;\n",
       "    }\n",
       "\n",
       "    .dataframe tbody tr th {\n",
       "        vertical-align: top;\n",
       "    }\n",
       "\n",
       "    .dataframe thead th {\n",
       "        text-align: right;\n",
       "    }\n",
       "</style>\n",
       "<table border=\"1\" class=\"dataframe\">\n",
       "  <thead>\n",
       "    <tr style=\"text-align: right;\">\n",
       "      <th></th>\n",
       "      <th>AddressLine1</th>\n",
       "      <th>AddressLine2</th>\n",
       "    </tr>\n",
       "  </thead>\n",
       "  <tbody>\n",
       "    <tr>\n",
       "      <th>2</th>\n",
       "      <td>7484 Roundtree Drive</td>\n",
       "      <td>NaN</td>\n",
       "    </tr>\n",
       "    <tr>\n",
       "      <th>5</th>\n",
       "      <td>1399 Firestone Drive</td>\n",
       "      <td>NaN</td>\n",
       "    </tr>\n",
       "    <tr>\n",
       "      <th>10</th>\n",
       "      <td>1318 Lasalle Street</td>\n",
       "      <td>NaN</td>\n",
       "    </tr>\n",
       "  </tbody>\n",
       "</table>\n",
       "</div>"
      ],
      "text/plain": [
       "            AddressLine1 AddressLine2\n",
       "2   7484 Roundtree Drive          NaN\n",
       "5   1399 Firestone Drive          NaN\n",
       "10   1318 Lasalle Street          NaN"
      ]
     },
     "execution_count": 4,
     "metadata": {},
     "output_type": "execute_result"
    }
   ],
   "source": [
    "df.loc[[2,5,10], [\"AddressLine1\", \"AddressLine2\"]]"
   ]
  },
  {
   "cell_type": "code",
   "execution_count": 7,
   "metadata": {},
   "outputs": [
    {
     "data": {
      "text/html": [
       "<div>\n",
       "<style scoped>\n",
       "    .dataframe tbody tr th:only-of-type {\n",
       "        vertical-align: middle;\n",
       "    }\n",
       "\n",
       "    .dataframe tbody tr th {\n",
       "        vertical-align: top;\n",
       "    }\n",
       "\n",
       "    .dataframe thead th {\n",
       "        text-align: right;\n",
       "    }\n",
       "</style>\n",
       "<table border=\"1\" class=\"dataframe\">\n",
       "  <thead>\n",
       "    <tr style=\"text-align: right;\">\n",
       "      <th></th>\n",
       "      <th>AddressID</th>\n",
       "      <th>AddressLine1</th>\n",
       "      <th>AddressLine2</th>\n",
       "      <th>City</th>\n",
       "      <th>StateProvinceID</th>\n",
       "      <th>PostalCode</th>\n",
       "      <th>SpatialLocation</th>\n",
       "      <th>rowguid</th>\n",
       "      <th>ModifiedDate</th>\n",
       "    </tr>\n",
       "  </thead>\n",
       "  <tbody>\n",
       "    <tr>\n",
       "      <th>2</th>\n",
       "      <td>3</td>\n",
       "      <td>7484 Roundtree Drive</td>\n",
       "      <td>NaN</td>\n",
       "      <td>Bothell</td>\n",
       "      <td>79</td>\n",
       "      <td>98011</td>\n",
       "      <td>0xE6100000010C18E304C4ADE14740DA930C7893915EC0</td>\n",
       "      <td>4C506923-6D1B-452C-A07C-BAA6F5B142A4</td>\n",
       "      <td>2013-03-07 00:00:00.000</td>\n",
       "    </tr>\n",
       "    <tr>\n",
       "      <th>3</th>\n",
       "      <td>4</td>\n",
       "      <td>9539 Glenside Dr</td>\n",
       "      <td>NaN</td>\n",
       "      <td>Bothell</td>\n",
       "      <td>79</td>\n",
       "      <td>98011</td>\n",
       "      <td>0xE6100000010C813A0D5F9FDE474011A5C28A7C955EC0</td>\n",
       "      <td>E5946C78-4BCC-477F-9FA1-CC09DE16A880</td>\n",
       "      <td>2009-02-03 00:00:00.000</td>\n",
       "    </tr>\n",
       "    <tr>\n",
       "      <th>4</th>\n",
       "      <td>5</td>\n",
       "      <td>1226 Shoe St.</td>\n",
       "      <td>NaN</td>\n",
       "      <td>Bothell</td>\n",
       "      <td>79</td>\n",
       "      <td>98011</td>\n",
       "      <td>0xE6100000010C61C64D8ABBD94740C460EA3FD8855EC0</td>\n",
       "      <td>FBAFF937-4A97-4AF0-81FD-B849900E9BB0</td>\n",
       "      <td>2008-12-19 00:00:00.000</td>\n",
       "    </tr>\n",
       "    <tr>\n",
       "      <th>5</th>\n",
       "      <td>6</td>\n",
       "      <td>1399 Firestone Drive</td>\n",
       "      <td>NaN</td>\n",
       "      <td>Bothell</td>\n",
       "      <td>79</td>\n",
       "      <td>98011</td>\n",
       "      <td>0xE6100000010CE0B4E50458DA47402F12A5F80C975EC0</td>\n",
       "      <td>FEBF8191-9804-44C8-877A-33FDE94F0075</td>\n",
       "      <td>2009-02-13 00:00:00.000</td>\n",
       "    </tr>\n",
       "  </tbody>\n",
       "</table>\n",
       "</div>"
      ],
      "text/plain": [
       "   AddressID          AddressLine1 AddressLine2     City  StateProvinceID  \\\n",
       "2          3  7484 Roundtree Drive          NaN  Bothell               79   \n",
       "3          4      9539 Glenside Dr          NaN  Bothell               79   \n",
       "4          5         1226 Shoe St.          NaN  Bothell               79   \n",
       "5          6  1399 Firestone Drive          NaN  Bothell               79   \n",
       "\n",
       "  PostalCode                                 SpatialLocation  \\\n",
       "2      98011  0xE6100000010C18E304C4ADE14740DA930C7893915EC0   \n",
       "3      98011  0xE6100000010C813A0D5F9FDE474011A5C28A7C955EC0   \n",
       "4      98011  0xE6100000010C61C64D8ABBD94740C460EA3FD8855EC0   \n",
       "5      98011  0xE6100000010CE0B4E50458DA47402F12A5F80C975EC0   \n",
       "\n",
       "                                rowguid             ModifiedDate  \n",
       "2  4C506923-6D1B-452C-A07C-BAA6F5B142A4  2013-03-07 00:00:00.000  \n",
       "3  E5946C78-4BCC-477F-9FA1-CC09DE16A880  2009-02-03 00:00:00.000  \n",
       "4  FBAFF937-4A97-4AF0-81FD-B849900E9BB0  2008-12-19 00:00:00.000  \n",
       "5  FEBF8191-9804-44C8-877A-33FDE94F0075  2009-02-13 00:00:00.000  "
      ]
     },
     "execution_count": 7,
     "metadata": {},
     "output_type": "execute_result"
    }
   ],
   "source": [
    "df.iloc[2:6,1:3]"
   ]
  }
 ],
 "metadata": {
  "kernelspec": {
   "display_name": "Python 3.10.1 64-bit",
   "language": "python",
   "name": "python3"
  },
  "language_info": {
   "codemirror_mode": {
    "name": "ipython",
    "version": 3
   },
   "file_extension": ".py",
   "mimetype": "text/x-python",
   "name": "python",
   "nbconvert_exporter": "python",
   "pygments_lexer": "ipython3",
   "version": "3.10.1"
  },
  "orig_nbformat": 4,
  "vscode": {
   "interpreter": {
    "hash": "9be826744cc5714b462ad0c8de88bfa6f016a48973c6317b9546595d1685cabb"
   }
  }
 },
 "nbformat": 4,
 "nbformat_minor": 2
}
